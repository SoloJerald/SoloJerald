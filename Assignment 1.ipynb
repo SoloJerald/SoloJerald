{
 "cells": [
  {
   "cell_type": "markdown",
   "id": "7feaae2f",
   "metadata": {},
   "source": [
    "**Assignment 1**"
   ]
  },
  {
   "cell_type": "markdown",
   "id": "5fbfe687",
   "metadata": {},
   "source": [
    "Author: Jerald "
   ]
  },
  {
   "cell_type": "markdown",
   "id": "9ca426f9",
   "metadata": {},
   "source": [
    "Date: 24/09/2021"
   ]
  },
  {
   "cell_type": "markdown",
   "id": "e6d50657",
   "metadata": {},
   "source": [
    "Below are the codes written for the python project which will be done with Spyder.\n",
    "We will need to print out all the integers between 1 and 10."
   ]
  },
  {
   "cell_type": "code",
   "execution_count": 2,
   "id": "139e9826",
   "metadata": {},
   "outputs": [
    {
     "name": "stdout",
     "output_type": "stream",
     "text": [
      "1\n",
      "2\n",
      "3\n",
      "4\n",
      "5\n",
      "6\n",
      "7\n",
      "8\n",
      "9\n",
      "10\n"
     ]
    }
   ],
   "source": [
    "\n",
    "for i in range(1,11):\n",
    "    print (i)\n"
   ]
  }
 ],
 "metadata": {
  "kernelspec": {
   "display_name": "Python 3",
   "language": "python",
   "name": "python3"
  },
  "language_info": {
   "codemirror_mode": {
    "name": "ipython",
    "version": 3
   },
   "file_extension": ".py",
   "mimetype": "text/x-python",
   "name": "python",
   "nbconvert_exporter": "python",
   "pygments_lexer": "ipython3",
   "version": "3.8.8"
  }
 },
 "nbformat": 4,
 "nbformat_minor": 5
}
